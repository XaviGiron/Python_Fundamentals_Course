{
 "cells": [
  {
   "cell_type": "code",
   "execution_count": 7,
   "id": "39c605e0",
   "metadata": {},
   "outputs": [
    {
     "name": "stdout",
     "output_type": "stream",
     "text": [
      "No son iguales\n"
     ]
    }
   ],
   "source": [
    "a = 4\n",
    "b = \"Fantástico\"\n",
    "\n",
    "if a == b:\n",
    "    print(\"Son iguales\")\n",
    "elif a == 45 :\n",
    "    print(\"A ha crecido\")\n",
    "else :\n",
    "    print(\"No son iguales\")"
   ]
  },
  {
   "cell_type": "code",
   "execution_count": 8,
   "id": "791bd54a",
   "metadata": {},
   "outputs": [],
   "source": [
    "diccionario = {\"Felipe\": 4, \"Xavi\": 55, \"Ros\": 3}"
   ]
  },
  {
   "cell_type": "code",
   "execution_count": 20,
   "id": "36968d74",
   "metadata": {},
   "outputs": [
    {
     "name": "stdout",
     "output_type": "stream",
     "text": [
      "Participante:  Felipe , Valor:  4\n",
      "Participante:  Xavi , Valor:  55\n",
      "Participante:  Ros , Valor:  3\n",
      "El número más alto es,  55 , y el más bajo, 3\n"
     ]
    }
   ],
   "source": [
    "diccionario = {\"Felipe\": 4, \"Xavi\": 55, \"Ros\": 3}\n",
    "\n",
    "for k,v in diccionario.items():\n",
    "    print(\"Participante: \", k, \", Valor: \", v)\n",
    "    \n",
    "pass\n",
    "\n",
    "\n",
    "nums = diccionario.values()\n",
    "maxNum = max(nums)\n",
    "minNum = min(nums)\n",
    "print(\"El número más alto es, \", maxNum,\", y el más bajo,\", minNum)\n"
   ]
  },
  {
   "cell_type": "code",
   "execution_count": null,
   "id": "10b6a5f5",
   "metadata": {},
   "outputs": [],
   "source": []
  }
 ],
 "metadata": {
  "kernelspec": {
   "display_name": "Python 3 (ipykernel)",
   "language": "python",
   "name": "python3"
  },
  "language_info": {
   "codemirror_mode": {
    "name": "ipython",
    "version": 3
   },
   "file_extension": ".py",
   "mimetype": "text/x-python",
   "name": "python",
   "nbconvert_exporter": "python",
   "pygments_lexer": "ipython3",
   "version": "3.9.7"
  }
 },
 "nbformat": 4,
 "nbformat_minor": 5
}
