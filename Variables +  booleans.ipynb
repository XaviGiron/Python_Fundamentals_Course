{
 "cells": [
  {
   "cell_type": "code",
   "execution_count": 1,
   "id": "f509fb50",
   "metadata": {},
   "outputs": [],
   "source": [
    "i = 2"
   ]
  },
  {
   "cell_type": "code",
   "execution_count": 2,
   "id": "711e6e62",
   "metadata": {},
   "outputs": [
    {
     "data": {
      "text/plain": [
       "int"
      ]
     },
     "execution_count": 2,
     "metadata": {},
     "output_type": "execute_result"
    }
   ],
   "source": [
    "type(i)"
   ]
  },
  {
   "cell_type": "code",
   "execution_count": 3,
   "id": "177bca6a",
   "metadata": {},
   "outputs": [],
   "source": [
    "i = [1, 2, 3, 4, 5, 6]"
   ]
  },
  {
   "cell_type": "code",
   "execution_count": 4,
   "id": "42bd7290",
   "metadata": {},
   "outputs": [
    {
     "data": {
      "text/plain": [
       "list"
      ]
     },
     "execution_count": 4,
     "metadata": {},
     "output_type": "execute_result"
    }
   ],
   "source": [
    "type(i)"
   ]
  },
  {
   "cell_type": "code",
   "execution_count": 5,
   "id": "fa78ecd1",
   "metadata": {},
   "outputs": [],
   "source": [
    "#hoooooola que taaal?"
   ]
  },
  {
   "cell_type": "code",
   "execution_count": 6,
   "id": "79b2a7ae",
   "metadata": {},
   "outputs": [],
   "source": [
    "mi_nombre = \"Xavi\""
   ]
  },
  {
   "cell_type": "code",
   "execution_count": 7,
   "id": "f89fb42f",
   "metadata": {},
   "outputs": [
    {
     "data": {
      "text/plain": [
       "'Xavi'"
      ]
     },
     "execution_count": 7,
     "metadata": {},
     "output_type": "execute_result"
    }
   ],
   "source": [
    "mi_nombre"
   ]
  },
  {
   "cell_type": "code",
   "execution_count": 9,
   "id": "e90ffcda",
   "metadata": {},
   "outputs": [
    {
     "data": {
      "text/plain": [
       "123455"
      ]
     },
     "execution_count": 9,
     "metadata": {},
     "output_type": "execute_result"
    }
   ],
   "source": [
    "cadenaNums = 123455\n",
    "cadenaNums"
   ]
  },
  {
   "cell_type": "code",
   "execution_count": 12,
   "id": "d953709f",
   "metadata": {},
   "outputs": [
    {
     "data": {
      "text/plain": [
       "list"
      ]
     },
     "execution_count": 12,
     "metadata": {},
     "output_type": "execute_result"
    }
   ],
   "source": [
    "listaAleatoria = [\"Hoola\", 12345, True]\n",
    "\n",
    "type(listaAleatoria)"
   ]
  },
  {
   "cell_type": "code",
   "execution_count": 13,
   "id": "815ae6e1",
   "metadata": {},
   "outputs": [
    {
     "data": {
      "text/plain": [
       "['Hoola', 12345, True]"
      ]
     },
     "execution_count": 13,
     "metadata": {},
     "output_type": "execute_result"
    }
   ],
   "source": [
    "listaAleatoria"
   ]
  },
  {
   "cell_type": "code",
   "execution_count": 14,
   "id": "f3009cf4",
   "metadata": {},
   "outputs": [],
   "source": [
    "diccionario = {\"Nombre\": \"Xavi\", \"Edad\": 21}"
   ]
  },
  {
   "cell_type": "code",
   "execution_count": 15,
   "id": "dbeda990",
   "metadata": {},
   "outputs": [
    {
     "data": {
      "text/plain": [
       "{'Nombre': 'Xavi', 'Edad': 21}"
      ]
     },
     "execution_count": 15,
     "metadata": {},
     "output_type": "execute_result"
    }
   ],
   "source": [
    "diccionario"
   ]
  },
  {
   "cell_type": "code",
   "execution_count": 16,
   "id": "9a3d8e96",
   "metadata": {},
   "outputs": [
    {
     "data": {
      "text/plain": [
       "dict"
      ]
     },
     "execution_count": 16,
     "metadata": {},
     "output_type": "execute_result"
    }
   ],
   "source": [
    "type(diccionario)"
   ]
  },
  {
   "cell_type": "code",
   "execution_count": 17,
   "id": "e7bf32f3",
   "metadata": {},
   "outputs": [],
   "source": [
    "numero, cadena, array = 123, \"Xavi\", [1, 2, 3, 4, 5]"
   ]
  },
  {
   "cell_type": "code",
   "execution_count": 18,
   "id": "63e4109d",
   "metadata": {},
   "outputs": [
    {
     "data": {
      "text/plain": [
       "123"
      ]
     },
     "execution_count": 18,
     "metadata": {},
     "output_type": "execute_result"
    }
   ],
   "source": [
    "numero"
   ]
  },
  {
   "cell_type": "code",
   "execution_count": 19,
   "id": "85362056",
   "metadata": {},
   "outputs": [
    {
     "data": {
      "text/plain": [
       "'Xavi'"
      ]
     },
     "execution_count": 19,
     "metadata": {},
     "output_type": "execute_result"
    }
   ],
   "source": [
    "cadena"
   ]
  },
  {
   "cell_type": "code",
   "execution_count": 20,
   "id": "332f874e",
   "metadata": {},
   "outputs": [
    {
     "data": {
      "text/plain": [
       "[1, 2, 3, 4, 5]"
      ]
     },
     "execution_count": 20,
     "metadata": {},
     "output_type": "execute_result"
    }
   ],
   "source": [
    "array"
   ]
  },
  {
   "cell_type": "code",
   "execution_count": 21,
   "id": "d0f6f45e",
   "metadata": {},
   "outputs": [
    {
     "data": {
      "text/plain": [
       "(123, 'Xavi', [1, 2, 3, 4, 5])"
      ]
     },
     "execution_count": 21,
     "metadata": {},
     "output_type": "execute_result"
    }
   ],
   "source": [
    "numero, cadena, array"
   ]
  },
  {
   "cell_type": "code",
   "execution_count": 22,
   "id": "2b687215",
   "metadata": {},
   "outputs": [
    {
     "data": {
      "text/plain": [
       "{'__name__': '__main__',\n",
       " '__doc__': 'Automatically created module for IPython interactive environment',\n",
       " '__package__': None,\n",
       " '__loader__': None,\n",
       " '__spec__': None,\n",
       " '__builtin__': <module 'builtins' (built-in)>,\n",
       " '__builtins__': <module 'builtins' (built-in)>,\n",
       " '_ih': ['',\n",
       "  'i = 2',\n",
       "  'type(i)',\n",
       "  'i = [1, 2, 3, 4, 5, 6]',\n",
       "  'type(i)',\n",
       "  '#hoooooola que taaal?',\n",
       "  'mi_nombre = \"Xavi\"',\n",
       "  'mi_nombre',\n",
       "  'cadenaNums = 123455\\nnums',\n",
       "  'cadenaNums = 123455\\ncadenaNums',\n",
       "  'listaAleatoria = [\"Hoola\", 12345, true]\\nlistaAleatoria\\ntype(listaAleatoria)',\n",
       "  'listaAleatoria = [\"Hoola\", 12345, True]\\nlistaAleatoria\\ntype(listaAleatoria)',\n",
       "  'listaAleatoria = [\"Hoola\", 12345, True]\\n\\ntype(listaAleatoria)',\n",
       "  'listaAleatoria',\n",
       "  'diccionario = {\"Nombre\": \"Xavi\", \"Edad\": 21}',\n",
       "  'diccionario',\n",
       "  'type(diccionario)',\n",
       "  'numero, cadena, array = 123, \"Xavi\", [1, 2, 3, 4, 5]',\n",
       "  'numero',\n",
       "  'cadena',\n",
       "  'array',\n",
       "  'numero, cadena, array',\n",
       "  'vars()'],\n",
       " '_oh': {2: int,\n",
       "  4: list,\n",
       "  7: 'Xavi',\n",
       "  9: 123455,\n",
       "  11: list,\n",
       "  12: list,\n",
       "  13: ['Hoola', 12345, True],\n",
       "  15: {'Nombre': 'Xavi', 'Edad': 21},\n",
       "  16: dict,\n",
       "  18: 123,\n",
       "  19: 'Xavi',\n",
       "  20: [1, 2, 3, 4, 5],\n",
       "  21: (123, 'Xavi', [1, 2, 3, 4, 5])},\n",
       " '_dh': ['C:\\\\Users\\\\p-xgiron\\\\Documents\\\\Python_Fundamentals_Course'],\n",
       " 'In': ['',\n",
       "  'i = 2',\n",
       "  'type(i)',\n",
       "  'i = [1, 2, 3, 4, 5, 6]',\n",
       "  'type(i)',\n",
       "  '#hoooooola que taaal?',\n",
       "  'mi_nombre = \"Xavi\"',\n",
       "  'mi_nombre',\n",
       "  'cadenaNums = 123455\\nnums',\n",
       "  'cadenaNums = 123455\\ncadenaNums',\n",
       "  'listaAleatoria = [\"Hoola\", 12345, true]\\nlistaAleatoria\\ntype(listaAleatoria)',\n",
       "  'listaAleatoria = [\"Hoola\", 12345, True]\\nlistaAleatoria\\ntype(listaAleatoria)',\n",
       "  'listaAleatoria = [\"Hoola\", 12345, True]\\n\\ntype(listaAleatoria)',\n",
       "  'listaAleatoria',\n",
       "  'diccionario = {\"Nombre\": \"Xavi\", \"Edad\": 21}',\n",
       "  'diccionario',\n",
       "  'type(diccionario)',\n",
       "  'numero, cadena, array = 123, \"Xavi\", [1, 2, 3, 4, 5]',\n",
       "  'numero',\n",
       "  'cadena',\n",
       "  'array',\n",
       "  'numero, cadena, array',\n",
       "  'vars()'],\n",
       " 'Out': {2: int,\n",
       "  4: list,\n",
       "  7: 'Xavi',\n",
       "  9: 123455,\n",
       "  11: list,\n",
       "  12: list,\n",
       "  13: ['Hoola', 12345, True],\n",
       "  15: {'Nombre': 'Xavi', 'Edad': 21},\n",
       "  16: dict,\n",
       "  18: 123,\n",
       "  19: 'Xavi',\n",
       "  20: [1, 2, 3, 4, 5],\n",
       "  21: (123, 'Xavi', [1, 2, 3, 4, 5])},\n",
       " 'get_ipython': <bound method InteractiveShell.get_ipython of <ipykernel.zmqshell.ZMQInteractiveShell object at 0x0000021A3C7B1A90>>,\n",
       " 'exit': <IPython.core.autocall.ZMQExitAutocall at 0x21a3c7eb760>,\n",
       " 'quit': <IPython.core.autocall.ZMQExitAutocall at 0x21a3c7eb760>,\n",
       " '_': (123, 'Xavi', [1, 2, 3, 4, 5]),\n",
       " '__': [1, 2, 3, 4, 5],\n",
       " '___': 'Xavi',\n",
       " '_i': 'numero, cadena, array',\n",
       " '_ii': 'array',\n",
       " '_iii': 'cadena',\n",
       " '_i1': 'i = 2',\n",
       " 'i': [1, 2, 3, 4, 5, 6],\n",
       " '_i2': 'type(i)',\n",
       " '_2': int,\n",
       " '_i3': 'i = [1, 2, 3, 4, 5, 6]',\n",
       " '_i4': 'type(i)',\n",
       " '_4': list,\n",
       " '_i5': '#hoooooola que taaal?',\n",
       " '_i6': 'mi_nombre = \"Xavi\"',\n",
       " 'mi_nombre': 'Xavi',\n",
       " '_i7': 'mi_nombre',\n",
       " '_7': 'Xavi',\n",
       " '_i8': 'cadenaNums = 123455\\nnums',\n",
       " 'cadenaNums': 123455,\n",
       " '_i9': 'cadenaNums = 123455\\ncadenaNums',\n",
       " '_9': 123455,\n",
       " '_i10': 'listaAleatoria = [\"Hoola\", 12345, true]\\nlistaAleatoria\\ntype(listaAleatoria)',\n",
       " '_i11': 'listaAleatoria = [\"Hoola\", 12345, True]\\nlistaAleatoria\\ntype(listaAleatoria)',\n",
       " 'listaAleatoria': ['Hoola', 12345, True],\n",
       " '_11': list,\n",
       " '_i12': 'listaAleatoria = [\"Hoola\", 12345, True]\\n\\ntype(listaAleatoria)',\n",
       " '_12': list,\n",
       " '_i13': 'listaAleatoria',\n",
       " '_13': ['Hoola', 12345, True],\n",
       " '_i14': 'diccionario = {\"Nombre\": \"Xavi\", \"Edad\": 21}',\n",
       " 'diccionario': {'Nombre': 'Xavi', 'Edad': 21},\n",
       " '_i15': 'diccionario',\n",
       " '_15': {'Nombre': 'Xavi', 'Edad': 21},\n",
       " '_i16': 'type(diccionario)',\n",
       " '_16': dict,\n",
       " '_i17': 'numero, cadena, array = 123, \"Xavi\", [1, 2, 3, 4, 5]',\n",
       " 'numero': 123,\n",
       " 'cadena': 'Xavi',\n",
       " 'array': [1, 2, 3, 4, 5],\n",
       " '_i18': 'numero',\n",
       " '_18': 123,\n",
       " '_i19': 'cadena',\n",
       " '_19': 'Xavi',\n",
       " '_i20': 'array',\n",
       " '_20': [1, 2, 3, 4, 5],\n",
       " '_i21': 'numero, cadena, array',\n",
       " '_21': (123, 'Xavi', [1, 2, 3, 4, 5]),\n",
       " '_i22': 'vars()'}"
      ]
     },
     "execution_count": 22,
     "metadata": {},
     "output_type": "execute_result"
    }
   ],
   "source": [
    "vars()"
   ]
  },
  {
   "cell_type": "code",
   "execution_count": 23,
   "id": "4edb8e2d",
   "metadata": {},
   "outputs": [],
   "source": [
    "globVar = \"Me ven todos\""
   ]
  },
  {
   "cell_type": "code",
   "execution_count": 24,
   "id": "af474928",
   "metadata": {},
   "outputs": [
    {
     "data": {
      "text/plain": [
       "'Me ven todos'"
      ]
     },
     "execution_count": 24,
     "metadata": {},
     "output_type": "execute_result"
    }
   ],
   "source": [
    "globVar"
   ]
  },
  {
   "cell_type": "code",
   "execution_count": 25,
   "id": "79ec77c2",
   "metadata": {},
   "outputs": [],
   "source": [
    "def nombre_variable ():\n",
    "    globVar = \"Ahora solo me ven los de mi método\"\n",
    "    print(globVar)"
   ]
  },
  {
   "cell_type": "code",
   "execution_count": 26,
   "id": "9c30919f",
   "metadata": {},
   "outputs": [
    {
     "name": "stdout",
     "output_type": "stream",
     "text": [
      "Ahora solo me ven los de mi método\n"
     ]
    }
   ],
   "source": [
    "nombre_variable()"
   ]
  },
  {
   "cell_type": "code",
   "execution_count": 27,
   "id": "61c10b83",
   "metadata": {},
   "outputs": [
    {
     "data": {
      "text/plain": [
       "False"
      ]
     },
     "execution_count": 27,
     "metadata": {},
     "output_type": "execute_result"
    }
   ],
   "source": [
    "False == True"
   ]
  },
  {
   "cell_type": "code",
   "execution_count": 28,
   "id": "6324ec74",
   "metadata": {},
   "outputs": [
    {
     "data": {
      "text/plain": [
       "True"
      ]
     },
     "execution_count": 28,
     "metadata": {},
     "output_type": "execute_result"
    }
   ],
   "source": [
    "True == True"
   ]
  },
  {
   "cell_type": "code",
   "execution_count": 29,
   "id": "54d81f85",
   "metadata": {},
   "outputs": [
    {
     "data": {
      "text/plain": [
       "True"
      ]
     },
     "execution_count": 29,
     "metadata": {},
     "output_type": "execute_result"
    }
   ],
   "source": [
    "False == False"
   ]
  },
  {
   "cell_type": "code",
   "execution_count": 30,
   "id": "b1e74fa3",
   "metadata": {},
   "outputs": [],
   "source": [
    "azul = False"
   ]
  },
  {
   "cell_type": "code",
   "execution_count": 31,
   "id": "160d5bb6",
   "metadata": {},
   "outputs": [
    {
     "name": "stdout",
     "output_type": "stream",
     "text": [
      "El coche no es azul\n"
     ]
    }
   ],
   "source": [
    "if (azul == False):\n",
    "    print(\"El coche no es azul\")"
   ]
  },
  {
   "cell_type": "code",
   "execution_count": 32,
   "id": "4c0fb43f",
   "metadata": {},
   "outputs": [
    {
     "data": {
      "text/plain": [
       "False"
      ]
     },
     "execution_count": 32,
     "metadata": {},
     "output_type": "execute_result"
    }
   ],
   "source": [
    "1 == False"
   ]
  },
  {
   "cell_type": "code",
   "execution_count": 33,
   "id": "e084c91d",
   "metadata": {},
   "outputs": [
    {
     "data": {
      "text/plain": [
       "True"
      ]
     },
     "execution_count": 33,
     "metadata": {},
     "output_type": "execute_result"
    }
   ],
   "source": [
    "0 == False"
   ]
  },
  {
   "cell_type": "code",
   "execution_count": 34,
   "id": "79d97e1b",
   "metadata": {},
   "outputs": [
    {
     "data": {
      "text/plain": [
       "True"
      ]
     },
     "execution_count": 34,
     "metadata": {},
     "output_type": "execute_result"
    }
   ],
   "source": [
    "1 == True"
   ]
  },
  {
   "cell_type": "code",
   "execution_count": null,
   "id": "b74020d6",
   "metadata": {},
   "outputs": [],
   "source": []
  }
 ],
 "metadata": {
  "kernelspec": {
   "display_name": "Python 3 (ipykernel)",
   "language": "python",
   "name": "python3"
  },
  "language_info": {
   "codemirror_mode": {
    "name": "ipython",
    "version": 3
   },
   "file_extension": ".py",
   "mimetype": "text/x-python",
   "name": "python",
   "nbconvert_exporter": "python",
   "pygments_lexer": "ipython3",
   "version": "3.9.7"
  }
 },
 "nbformat": 4,
 "nbformat_minor": 5
}
