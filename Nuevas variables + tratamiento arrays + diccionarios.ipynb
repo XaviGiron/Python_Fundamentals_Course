{
 "cells": [
  {
   "cell_type": "code",
   "execution_count": 1,
   "id": "32f03875",
   "metadata": {},
   "outputs": [],
   "source": [
    "lista = [\"Hola\", 123.89, True, 123456789]"
   ]
  },
  {
   "cell_type": "code",
   "execution_count": 2,
   "id": "179d5735",
   "metadata": {},
   "outputs": [
    {
     "data": {
      "text/plain": [
       "4"
      ]
     },
     "execution_count": 2,
     "metadata": {},
     "output_type": "execute_result"
    }
   ],
   "source": [
    "len(lista)"
   ]
  },
  {
   "cell_type": "code",
   "execution_count": 3,
   "id": "c3077770",
   "metadata": {},
   "outputs": [
    {
     "data": {
      "text/plain": [
       "'Hola'"
      ]
     },
     "execution_count": 3,
     "metadata": {},
     "output_type": "execute_result"
    }
   ],
   "source": [
    "lista[0]"
   ]
  },
  {
   "cell_type": "code",
   "execution_count": 4,
   "id": "f4cb5dc4",
   "metadata": {},
   "outputs": [
    {
     "ename": "IndexError",
     "evalue": "list index out of range",
     "output_type": "error",
     "traceback": [
      "\u001b[1;31m---------------------------------------------------------------------------\u001b[0m",
      "\u001b[1;31mIndexError\u001b[0m                                Traceback (most recent call last)",
      "\u001b[1;32m~\\AppData\\Local\\Temp/ipykernel_17284/586525530.py\u001b[0m in \u001b[0;36m<module>\u001b[1;34m\u001b[0m\n\u001b[1;32m----> 1\u001b[1;33m \u001b[0mlista\u001b[0m\u001b[1;33m[\u001b[0m\u001b[1;36m4\u001b[0m\u001b[1;33m]\u001b[0m\u001b[1;33m\u001b[0m\u001b[1;33m\u001b[0m\u001b[0m\n\u001b[0m",
      "\u001b[1;31mIndexError\u001b[0m: list index out of range"
     ]
    }
   ],
   "source": [
    "lista[4]"
   ]
  },
  {
   "cell_type": "code",
   "execution_count": 5,
   "id": "7b2f35e8",
   "metadata": {},
   "outputs": [
    {
     "data": {
      "text/plain": [
       "123456789"
      ]
     },
     "execution_count": 5,
     "metadata": {},
     "output_type": "execute_result"
    }
   ],
   "source": [
    "lista[3]"
   ]
  },
  {
   "cell_type": "code",
   "execution_count": 6,
   "id": "d05b3e98",
   "metadata": {},
   "outputs": [
    {
     "data": {
      "text/plain": [
       "123456789"
      ]
     },
     "execution_count": 6,
     "metadata": {},
     "output_type": "execute_result"
    }
   ],
   "source": [
    "lista[-1]"
   ]
  },
  {
   "cell_type": "code",
   "execution_count": 7,
   "id": "c7837352",
   "metadata": {},
   "outputs": [],
   "source": [
    "lista[0]= \"Hola Xavi\""
   ]
  },
  {
   "cell_type": "code",
   "execution_count": 8,
   "id": "d37c1269",
   "metadata": {},
   "outputs": [
    {
     "data": {
      "text/plain": [
       "['Hola Xavi', 123.89, True, 123456789]"
      ]
     },
     "execution_count": 8,
     "metadata": {},
     "output_type": "execute_result"
    }
   ],
   "source": [
    "lista"
   ]
  },
  {
   "cell_type": "code",
   "execution_count": 9,
   "id": "51193dd7",
   "metadata": {},
   "outputs": [],
   "source": [
    "lista.append(\"Hoooooola\")"
   ]
  },
  {
   "cell_type": "code",
   "execution_count": 10,
   "id": "48affca3",
   "metadata": {},
   "outputs": [],
   "source": [
    "lista.append(80)"
   ]
  },
  {
   "cell_type": "code",
   "execution_count": 11,
   "id": "9aed4165",
   "metadata": {},
   "outputs": [
    {
     "data": {
      "text/plain": [
       "['Hola Xavi', 123.89, True, 123456789, 'Hoooooola', 80]"
      ]
     },
     "execution_count": 11,
     "metadata": {},
     "output_type": "execute_result"
    }
   ],
   "source": [
    "lista"
   ]
  },
  {
   "cell_type": "code",
   "execution_count": 13,
   "id": "ed6f4527",
   "metadata": {},
   "outputs": [],
   "source": [
    "array= [1, 2, 2, 2, 3, 4, 2, 2, 5, 6, 2, 2, 5, 5, 6, 6]"
   ]
  },
  {
   "cell_type": "code",
   "execution_count": 14,
   "id": "8cafa689",
   "metadata": {},
   "outputs": [
    {
     "data": {
      "text/plain": [
       "1"
      ]
     },
     "execution_count": 14,
     "metadata": {},
     "output_type": "execute_result"
    }
   ],
   "source": [
    "array.count(1)"
   ]
  },
  {
   "cell_type": "code",
   "execution_count": 15,
   "id": "c897ce3b",
   "metadata": {},
   "outputs": [
    {
     "data": {
      "text/plain": [
       "7"
      ]
     },
     "execution_count": 15,
     "metadata": {},
     "output_type": "execute_result"
    }
   ],
   "source": [
    "array.count(2)"
   ]
  },
  {
   "cell_type": "code",
   "execution_count": 21,
   "id": "e31dd194",
   "metadata": {},
   "outputs": [],
   "source": [
    "nombres = [\"Pepe\", \"xavi\", \"xavi\", \"Juan\"]"
   ]
  },
  {
   "cell_type": "code",
   "execution_count": 22,
   "id": "5b1bd924",
   "metadata": {},
   "outputs": [
    {
     "data": {
      "text/plain": [
       "2"
      ]
     },
     "execution_count": 22,
     "metadata": {},
     "output_type": "execute_result"
    }
   ],
   "source": [
    "nombres.count(\"xavi\")"
   ]
  },
  {
   "cell_type": "code",
   "execution_count": 23,
   "id": "4dcbd72b",
   "metadata": {},
   "outputs": [],
   "source": [
    "nombres.extend(\"Rafa\")"
   ]
  },
  {
   "cell_type": "code",
   "execution_count": 24,
   "id": "be57eb51",
   "metadata": {},
   "outputs": [
    {
     "data": {
      "text/plain": [
       "['Pepe', 'xavi', 'xavi', 'Juan', 'R', 'a', 'f', 'a']"
      ]
     },
     "execution_count": 24,
     "metadata": {},
     "output_type": "execute_result"
    }
   ],
   "source": [
    "nombres"
   ]
  },
  {
   "cell_type": "code",
   "execution_count": 26,
   "id": "f38f30bd",
   "metadata": {},
   "outputs": [],
   "source": [
    "nombres.append(\"Rafa\")"
   ]
  },
  {
   "cell_type": "code",
   "execution_count": 27,
   "id": "4ac3994d",
   "metadata": {},
   "outputs": [
    {
     "data": {
      "text/plain": [
       "['Pepe', 'xavi', 'xavi', 'Juan', 'R', 'a', 'f', 'a', 'Rafa']"
      ]
     },
     "execution_count": 27,
     "metadata": {},
     "output_type": "execute_result"
    }
   ],
   "source": [
    "nombres"
   ]
  },
  {
   "cell_type": "code",
   "execution_count": 30,
   "id": "52c2ee77",
   "metadata": {},
   "outputs": [],
   "source": [
    "array.extend(\"1234567890\")"
   ]
  },
  {
   "cell_type": "code",
   "execution_count": 31,
   "id": "2b2159f4",
   "metadata": {},
   "outputs": [
    {
     "data": {
      "text/plain": [
       "[1,\n",
       " 2,\n",
       " 2,\n",
       " 2,\n",
       " 3,\n",
       " 4,\n",
       " 2,\n",
       " 2,\n",
       " 5,\n",
       " 6,\n",
       " 2,\n",
       " 2,\n",
       " 5,\n",
       " 5,\n",
       " 6,\n",
       " 6,\n",
       " '1',\n",
       " '2',\n",
       " '3',\n",
       " '4',\n",
       " '5',\n",
       " '6',\n",
       " '7',\n",
       " '8',\n",
       " '9',\n",
       " '0']"
      ]
     },
     "execution_count": 31,
     "metadata": {},
     "output_type": "execute_result"
    }
   ],
   "source": [
    "array"
   ]
  },
  {
   "cell_type": "code",
   "execution_count": 33,
   "id": "cb76bccb",
   "metadata": {},
   "outputs": [],
   "source": [
    "nombres.extend([2])"
   ]
  },
  {
   "cell_type": "code",
   "execution_count": 34,
   "id": "9410f828",
   "metadata": {},
   "outputs": [
    {
     "data": {
      "text/plain": [
       "['Pepe', 'xavi', 'xavi', 'Juan', 'R', 'a', 'f', 'a', 'Rafa', 2]"
      ]
     },
     "execution_count": 34,
     "metadata": {},
     "output_type": "execute_result"
    }
   ],
   "source": [
    "nombres"
   ]
  },
  {
   "cell_type": "code",
   "execution_count": 35,
   "id": "a4a780d5",
   "metadata": {},
   "outputs": [],
   "source": [
    "nombres.extend([\"Juan\"])"
   ]
  },
  {
   "cell_type": "code",
   "execution_count": 36,
   "id": "6ece3671",
   "metadata": {},
   "outputs": [
    {
     "data": {
      "text/plain": [
       "['Pepe', 'xavi', 'xavi', 'Juan', 'R', 'a', 'f', 'a', 'Rafa', 2, 'Juan']"
      ]
     },
     "execution_count": 36,
     "metadata": {},
     "output_type": "execute_result"
    }
   ],
   "source": [
    "nombres"
   ]
  },
  {
   "cell_type": "code",
   "execution_count": 38,
   "id": "47557a6d",
   "metadata": {},
   "outputs": [],
   "source": [
    "nombres.extend(range(5, 7))"
   ]
  },
  {
   "cell_type": "code",
   "execution_count": 39,
   "id": "acef614a",
   "metadata": {},
   "outputs": [
    {
     "data": {
      "text/plain": [
       "['Pepe', 'xavi', 'xavi', 'Juan', 'R', 'a', 'f', 'a', 'Rafa', 2, 'Juan', 5, 6]"
      ]
     },
     "execution_count": 39,
     "metadata": {},
     "output_type": "execute_result"
    }
   ],
   "source": [
    "nombres"
   ]
  },
  {
   "cell_type": "code",
   "execution_count": 40,
   "id": "31ca443b",
   "metadata": {},
   "outputs": [
    {
     "data": {
      "text/plain": [
       "4"
      ]
     },
     "execution_count": 40,
     "metadata": {},
     "output_type": "execute_result"
    }
   ],
   "source": [
    "nombres.index(\"R\")"
   ]
  },
  {
   "cell_type": "code",
   "execution_count": 41,
   "id": "8ef12e7b",
   "metadata": {},
   "outputs": [
    {
     "data": {
      "text/plain": [
       "6"
      ]
     },
     "execution_count": 41,
     "metadata": {},
     "output_type": "execute_result"
    }
   ],
   "source": [
    "nombres[-1]"
   ]
  },
  {
   "cell_type": "code",
   "execution_count": 42,
   "id": "12380af2",
   "metadata": {},
   "outputs": [],
   "source": [
    "nombres[0] = \"Andrés\""
   ]
  },
  {
   "cell_type": "code",
   "execution_count": 43,
   "id": "0dcef6ce",
   "metadata": {},
   "outputs": [
    {
     "data": {
      "text/plain": [
       "['Andrés', 'xavi', 'xavi', 'Juan', 'R', 'a', 'f', 'a', 'Rafa', 2, 'Juan', 5, 6]"
      ]
     },
     "execution_count": 43,
     "metadata": {},
     "output_type": "execute_result"
    }
   ],
   "source": [
    "nombres"
   ]
  },
  {
   "cell_type": "code",
   "execution_count": 44,
   "id": "6ff8cf79",
   "metadata": {},
   "outputs": [],
   "source": [
    "nombres.insert(0, \"Juan\")"
   ]
  },
  {
   "cell_type": "code",
   "execution_count": 45,
   "id": "4927eca3",
   "metadata": {},
   "outputs": [
    {
     "data": {
      "text/plain": [
       "['Juan',\n",
       " 'Andrés',\n",
       " 'xavi',\n",
       " 'xavi',\n",
       " 'Juan',\n",
       " 'R',\n",
       " 'a',\n",
       " 'f',\n",
       " 'a',\n",
       " 'Rafa',\n",
       " 2,\n",
       " 'Juan',\n",
       " 5,\n",
       " 6]"
      ]
     },
     "execution_count": 45,
     "metadata": {},
     "output_type": "execute_result"
    }
   ],
   "source": [
    "nombres"
   ]
  },
  {
   "cell_type": "code",
   "execution_count": 46,
   "id": "8b0161a0",
   "metadata": {},
   "outputs": [
    {
     "data": {
      "text/plain": [
       "['Hola Xavi', 123.89, True, 123456789, 'Hoooooola', 80]"
      ]
     },
     "execution_count": 46,
     "metadata": {},
     "output_type": "execute_result"
    }
   ],
   "source": [
    "lista"
   ]
  },
  {
   "cell_type": "code",
   "execution_count": 47,
   "id": "a47d6cf2",
   "metadata": {},
   "outputs": [
    {
     "data": {
      "text/plain": [
       "['Juan',\n",
       " 'Andrés',\n",
       " 'xavi',\n",
       " 'xavi',\n",
       " 'Juan',\n",
       " 'R',\n",
       " 'a',\n",
       " 'f',\n",
       " 'a',\n",
       " 'Rafa',\n",
       " 2,\n",
       " 'Juan',\n",
       " 5,\n",
       " 6]"
      ]
     },
     "execution_count": 47,
     "metadata": {},
     "output_type": "execute_result"
    }
   ],
   "source": [
    "nombres"
   ]
  },
  {
   "cell_type": "code",
   "execution_count": 48,
   "id": "5894cad4",
   "metadata": {},
   "outputs": [],
   "source": [
    "del nombres"
   ]
  },
  {
   "cell_type": "code",
   "execution_count": 49,
   "id": "8118de32",
   "metadata": {},
   "outputs": [
    {
     "ename": "NameError",
     "evalue": "name 'nombres' is not defined",
     "output_type": "error",
     "traceback": [
      "\u001b[1;31m---------------------------------------------------------------------------\u001b[0m",
      "\u001b[1;31mNameError\u001b[0m                                 Traceback (most recent call last)",
      "\u001b[1;32m~\\AppData\\Local\\Temp/ipykernel_17284/680909767.py\u001b[0m in \u001b[0;36m<module>\u001b[1;34m\u001b[0m\n\u001b[1;32m----> 1\u001b[1;33m \u001b[0mnombres\u001b[0m\u001b[1;33m\u001b[0m\u001b[1;33m\u001b[0m\u001b[0m\n\u001b[0m",
      "\u001b[1;31mNameError\u001b[0m: name 'nombres' is not defined"
     ]
    }
   ],
   "source": [
    "nombres"
   ]
  },
  {
   "cell_type": "code",
   "execution_count": 50,
   "id": "d16959c9",
   "metadata": {},
   "outputs": [],
   "source": [
    "lista.reverse()"
   ]
  },
  {
   "cell_type": "code",
   "execution_count": 51,
   "id": "331332ae",
   "metadata": {},
   "outputs": [
    {
     "data": {
      "text/plain": [
       "[80, 'Hoooooola', 123456789, True, 123.89, 'Hola Xavi']"
      ]
     },
     "execution_count": 51,
     "metadata": {},
     "output_type": "execute_result"
    }
   ],
   "source": [
    "lista"
   ]
  },
  {
   "cell_type": "code",
   "execution_count": 52,
   "id": "8aa21110",
   "metadata": {},
   "outputs": [
    {
     "ename": "TypeError",
     "evalue": "'<' not supported between instances of 'str' and 'int'",
     "output_type": "error",
     "traceback": [
      "\u001b[1;31m---------------------------------------------------------------------------\u001b[0m",
      "\u001b[1;31mTypeError\u001b[0m                                 Traceback (most recent call last)",
      "\u001b[1;32m~\\AppData\\Local\\Temp/ipykernel_17284/1461118269.py\u001b[0m in \u001b[0;36m<module>\u001b[1;34m\u001b[0m\n\u001b[1;32m----> 1\u001b[1;33m \u001b[0mlista\u001b[0m\u001b[1;33m.\u001b[0m\u001b[0msort\u001b[0m\u001b[1;33m(\u001b[0m\u001b[1;33m)\u001b[0m\u001b[1;33m\u001b[0m\u001b[1;33m\u001b[0m\u001b[0m\n\u001b[0m",
      "\u001b[1;31mTypeError\u001b[0m: '<' not supported between instances of 'str' and 'int'"
     ]
    }
   ],
   "source": [
    "lista.sort()"
   ]
  },
  {
   "cell_type": "code",
   "execution_count": 53,
   "id": "42919bbc",
   "metadata": {},
   "outputs": [],
   "source": [
    "lista2= [3, 1, 8, 3]"
   ]
  },
  {
   "cell_type": "code",
   "execution_count": 54,
   "id": "d9fa3730",
   "metadata": {},
   "outputs": [],
   "source": [
    "lista2.sort()"
   ]
  },
  {
   "cell_type": "code",
   "execution_count": 55,
   "id": "d75f573e",
   "metadata": {},
   "outputs": [
    {
     "data": {
      "text/plain": [
       "[1, 3, 3, 8]"
      ]
     },
     "execution_count": 55,
     "metadata": {},
     "output_type": "execute_result"
    }
   ],
   "source": [
    "lista2"
   ]
  },
  {
   "cell_type": "code",
   "execution_count": 56,
   "id": "a7d37041",
   "metadata": {},
   "outputs": [],
   "source": [
    "nombres2 = [\"Dani\", \"Juanjo\", \"Xavi\", \"Andy\"]"
   ]
  },
  {
   "cell_type": "code",
   "execution_count": 57,
   "id": "fd38ccfe",
   "metadata": {},
   "outputs": [],
   "source": [
    "nombres2.sort()"
   ]
  },
  {
   "cell_type": "code",
   "execution_count": 58,
   "id": "45b71747",
   "metadata": {},
   "outputs": [
    {
     "data": {
      "text/plain": [
       "['Andy', 'Dani', 'Juanjo', 'Xavi']"
      ]
     },
     "execution_count": 58,
     "metadata": {},
     "output_type": "execute_result"
    }
   ],
   "source": [
    "nombres2"
   ]
  },
  {
   "cell_type": "code",
   "execution_count": 59,
   "id": "778ae2ee",
   "metadata": {},
   "outputs": [],
   "source": [
    "listita = list((1, 2, 3, 4))"
   ]
  },
  {
   "cell_type": "code",
   "execution_count": 60,
   "id": "946c7061",
   "metadata": {},
   "outputs": [
    {
     "data": {
      "text/plain": [
       "[1, 2, 3, 4]"
      ]
     },
     "execution_count": 60,
     "metadata": {},
     "output_type": "execute_result"
    }
   ],
   "source": [
    "listita"
   ]
  },
  {
   "cell_type": "code",
   "execution_count": 62,
   "id": "30ecee6e",
   "metadata": {},
   "outputs": [],
   "source": [
    "tupla = tuple(listita)"
   ]
  },
  {
   "cell_type": "code",
   "execution_count": 64,
   "id": "8cbd1633",
   "metadata": {},
   "outputs": [
    {
     "data": {
      "text/plain": [
       "(1, 2, 3, 4)"
      ]
     },
     "execution_count": 64,
     "metadata": {},
     "output_type": "execute_result"
    }
   ],
   "source": [
    "tupla"
   ]
  },
  {
   "cell_type": "code",
   "execution_count": 66,
   "id": "0171fe6c",
   "metadata": {},
   "outputs": [
    {
     "data": {
      "text/plain": [
       "tuple"
      ]
     },
     "execution_count": 66,
     "metadata": {},
     "output_type": "execute_result"
    }
   ],
   "source": [
    "type(tupla)"
   ]
  },
  {
   "cell_type": "code",
   "execution_count": 67,
   "id": "9c0761a7",
   "metadata": {},
   "outputs": [
    {
     "data": {
      "text/plain": [
       "[1, 2, 3, 4]"
      ]
     },
     "execution_count": 67,
     "metadata": {},
     "output_type": "execute_result"
    }
   ],
   "source": [
    "listita"
   ]
  },
  {
   "cell_type": "code",
   "execution_count": 68,
   "id": "bd7a1ac3",
   "metadata": {},
   "outputs": [
    {
     "data": {
      "text/plain": [
       "list"
      ]
     },
     "execution_count": 68,
     "metadata": {},
     "output_type": "execute_result"
    }
   ],
   "source": [
    "type(listita)"
   ]
  },
  {
   "cell_type": "code",
   "execution_count": 69,
   "id": "6ffd3ec1",
   "metadata": {},
   "outputs": [],
   "source": [
    "t_l = list(tupla)"
   ]
  },
  {
   "cell_type": "code",
   "execution_count": 70,
   "id": "ce0c891d",
   "metadata": {},
   "outputs": [
    {
     "data": {
      "text/plain": [
       "list"
      ]
     },
     "execution_count": 70,
     "metadata": {},
     "output_type": "execute_result"
    }
   ],
   "source": [
    "type(t_l)"
   ]
  },
  {
   "cell_type": "code",
   "execution_count": 71,
   "id": "f097dd65",
   "metadata": {},
   "outputs": [
    {
     "data": {
      "text/plain": [
       "[1, 2, 3, 4]"
      ]
     },
     "execution_count": 71,
     "metadata": {},
     "output_type": "execute_result"
    }
   ],
   "source": [
    "t_l"
   ]
  },
  {
   "cell_type": "code",
   "execution_count": 72,
   "id": "5236be0b",
   "metadata": {},
   "outputs": [],
   "source": [
    "myDicci = {\"Dia\": 31, \"Mes\": 3, \"Año\": 2022}"
   ]
  },
  {
   "cell_type": "code",
   "execution_count": 73,
   "id": "cec4dee4",
   "metadata": {},
   "outputs": [],
   "source": [
    "secuencia = (\"Dia\", \"Mes\", \"Año\")"
   ]
  },
  {
   "cell_type": "code",
   "execution_count": 74,
   "id": "409919a3",
   "metadata": {},
   "outputs": [],
   "source": [
    "dia = {}"
   ]
  },
  {
   "cell_type": "code",
   "execution_count": 75,
   "id": "05a07544",
   "metadata": {},
   "outputs": [],
   "source": [
    "dia = dict.fromkeys(secuencia)"
   ]
  },
  {
   "cell_type": "code",
   "execution_count": 76,
   "id": "a0397148",
   "metadata": {},
   "outputs": [
    {
     "data": {
      "text/plain": [
       "{'Dia': None, 'Mes': None, 'Año': None}"
      ]
     },
     "execution_count": 76,
     "metadata": {},
     "output_type": "execute_result"
    }
   ],
   "source": [
    "dia"
   ]
  },
  {
   "cell_type": "code",
   "execution_count": 77,
   "id": "7ed55406",
   "metadata": {},
   "outputs": [],
   "source": [
    "dia = dict.fromkeys(secuencia, 9)"
   ]
  },
  {
   "cell_type": "code",
   "execution_count": 78,
   "id": "8aae69cd",
   "metadata": {},
   "outputs": [
    {
     "data": {
      "text/plain": [
       "{'Dia': 9, 'Mes': 9, 'Año': 9}"
      ]
     },
     "execution_count": 78,
     "metadata": {},
     "output_type": "execute_result"
    }
   ],
   "source": [
    "dia"
   ]
  },
  {
   "cell_type": "code",
   "execution_count": 79,
   "id": "09ca4e7d",
   "metadata": {},
   "outputs": [],
   "source": [
    "tomorrow = dia.copy()"
   ]
  },
  {
   "cell_type": "code",
   "execution_count": 80,
   "id": "bead5521",
   "metadata": {},
   "outputs": [
    {
     "data": {
      "text/plain": [
       "{'Dia': 9, 'Mes': 9, 'Año': 9}"
      ]
     },
     "execution_count": 80,
     "metadata": {},
     "output_type": "execute_result"
    }
   ],
   "source": [
    "tomorrow"
   ]
  },
  {
   "cell_type": "code",
   "execution_count": 81,
   "id": "150e99a2",
   "metadata": {},
   "outputs": [],
   "source": [
    "tomorrow[\"Dia\"]=10"
   ]
  },
  {
   "cell_type": "code",
   "execution_count": 82,
   "id": "0e860b68",
   "metadata": {},
   "outputs": [
    {
     "data": {
      "text/plain": [
       "{'Dia': 10, 'Mes': 9, 'Año': 9}"
      ]
     },
     "execution_count": 82,
     "metadata": {},
     "output_type": "execute_result"
    }
   ],
   "source": [
    "tomorrow"
   ]
  },
  {
   "cell_type": "code",
   "execution_count": 83,
   "id": "46d1075a",
   "metadata": {},
   "outputs": [
    {
     "data": {
      "text/plain": [
       "dict_items([('Dia', 10), ('Mes', 9), ('Año', 9)])"
      ]
     },
     "execution_count": 83,
     "metadata": {},
     "output_type": "execute_result"
    }
   ],
   "source": [
    "tomorrow.items()"
   ]
  },
  {
   "cell_type": "code",
   "execution_count": 84,
   "id": "11da07fd",
   "metadata": {},
   "outputs": [],
   "source": [
    "items_mañana = tomorrow.items()"
   ]
  },
  {
   "cell_type": "code",
   "execution_count": 85,
   "id": "58489635",
   "metadata": {},
   "outputs": [
    {
     "ename": "TypeError",
     "evalue": "'dict_items' object is not subscriptable",
     "output_type": "error",
     "traceback": [
      "\u001b[1;31m---------------------------------------------------------------------------\u001b[0m",
      "\u001b[1;31mTypeError\u001b[0m                                 Traceback (most recent call last)",
      "\u001b[1;32m~\\AppData\\Local\\Temp/ipykernel_17284/3897950867.py\u001b[0m in \u001b[0;36m<module>\u001b[1;34m\u001b[0m\n\u001b[1;32m----> 1\u001b[1;33m \u001b[0mitems_mañana\u001b[0m\u001b[1;33m[\u001b[0m\u001b[1;36m0\u001b[0m\u001b[1;33m]\u001b[0m\u001b[1;33m\u001b[0m\u001b[1;33m\u001b[0m\u001b[0m\n\u001b[0m",
      "\u001b[1;31mTypeError\u001b[0m: 'dict_items' object is not subscriptable"
     ]
    }
   ],
   "source": [
    "items_mañana[0]"
   ]
  },
  {
   "cell_type": "code",
   "execution_count": 86,
   "id": "ddf3f534",
   "metadata": {},
   "outputs": [],
   "source": [
    "hoy= {\"Dia\": 9, \"Año\":2022}"
   ]
  },
  {
   "cell_type": "code",
   "execution_count": 88,
   "id": "7c2deedd",
   "metadata": {},
   "outputs": [],
   "source": [
    "hoy.update(tomorrow)"
   ]
  },
  {
   "cell_type": "code",
   "execution_count": 89,
   "id": "c225c76e",
   "metadata": {},
   "outputs": [
    {
     "data": {
      "text/plain": [
       "{'Dia': 10, 'Año': 9, 'Mes': 9}"
      ]
     },
     "execution_count": 89,
     "metadata": {},
     "output_type": "execute_result"
    }
   ],
   "source": [
    "hoy"
   ]
  },
  {
   "cell_type": "code",
   "execution_count": null,
   "id": "b0c86bb3",
   "metadata": {},
   "outputs": [],
   "source": []
  }
 ],
 "metadata": {
  "kernelspec": {
   "display_name": "Python 3 (ipykernel)",
   "language": "python",
   "name": "python3"
  },
  "language_info": {
   "codemirror_mode": {
    "name": "ipython",
    "version": 3
   },
   "file_extension": ".py",
   "mimetype": "text/x-python",
   "name": "python",
   "nbconvert_exporter": "python",
   "pygments_lexer": "ipython3",
   "version": "3.9.7"
  }
 },
 "nbformat": 4,
 "nbformat_minor": 5
}
