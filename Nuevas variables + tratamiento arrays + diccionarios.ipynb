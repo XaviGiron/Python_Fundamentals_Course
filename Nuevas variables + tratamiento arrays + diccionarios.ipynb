{
 "cells": [
  {
   "cell_type": "code",
   "execution_count": 1,
   "id": "5d3e334c",
   "metadata": {},
   "outputs": [],
   "source": [
    "lista = [\"Hola\", 123.89, True, 123456789]"
   ]
  },
  {
   "cell_type": "code",
   "execution_count": 2,
   "id": "97868b85",
   "metadata": {},
   "outputs": [
    {
     "data": {
      "text/plain": [
       "4"
      ]
     },
     "execution_count": 2,
     "metadata": {},
     "output_type": "execute_result"
    }
   ],
   "source": [
    "len(lista)"
   ]
  },
  {
   "cell_type": "code",
   "execution_count": 3,
   "id": "a73fbde1",
   "metadata": {},
   "outputs": [
    {
     "data": {
      "text/plain": [
       "'Hola'"
      ]
     },
     "execution_count": 3,
     "metadata": {},
     "output_type": "execute_result"
    }
   ],
   "source": [
    "lista[0]"
   ]
  },
  {
   "cell_type": "code",
   "execution_count": 4,
   "id": "7eef241a",
   "metadata": {},
   "outputs": [
    {
     "ename": "IndexError",
     "evalue": "list index out of range",
     "output_type": "error",
     "traceback": [
      "\u001b[1;31m---------------------------------------------------------------------------\u001b[0m",
      "\u001b[1;31mIndexError\u001b[0m                                Traceback (most recent call last)",
      "\u001b[1;32m~\\AppData\\Local\\Temp/ipykernel_17284/586525530.py\u001b[0m in \u001b[0;36m<module>\u001b[1;34m\u001b[0m\n\u001b[1;32m----> 1\u001b[1;33m \u001b[0mlista\u001b[0m\u001b[1;33m[\u001b[0m\u001b[1;36m4\u001b[0m\u001b[1;33m]\u001b[0m\u001b[1;33m\u001b[0m\u001b[1;33m\u001b[0m\u001b[0m\n\u001b[0m",
      "\u001b[1;31mIndexError\u001b[0m: list index out of range"
     ]
    }
   ],
   "source": [
    "lista[4]"
   ]
  },
  {
   "cell_type": "code",
   "execution_count": 5,
   "id": "9654f891",
   "metadata": {},
   "outputs": [
    {
     "data": {
      "text/plain": [
       "123456789"
      ]
     },
     "execution_count": 5,
     "metadata": {},
     "output_type": "execute_result"
    }
   ],
   "source": [
    "lista[3]"
   ]
  },
  {
   "cell_type": "code",
   "execution_count": 6,
   "id": "bbd602e8",
   "metadata": {},
   "outputs": [
    {
     "data": {
      "text/plain": [
       "123456789"
      ]
     },
     "execution_count": 6,
     "metadata": {},
     "output_type": "execute_result"
    }
   ],
   "source": [
    "lista[-1]"
   ]
  },
  {
   "cell_type": "code",
   "execution_count": 7,
   "id": "b4782289",
   "metadata": {},
   "outputs": [],
   "source": [
    "lista[0]= \"Hola Xavi\""
   ]
  },
  {
   "cell_type": "code",
   "execution_count": 8,
   "id": "e6c11dc6",
   "metadata": {},
   "outputs": [
    {
     "data": {
      "text/plain": [
       "['Hola Xavi', 123.89, True, 123456789]"
      ]
     },
     "execution_count": 8,
     "metadata": {},
     "output_type": "execute_result"
    }
   ],
   "source": [
    "lista"
   ]
  },
  {
   "cell_type": "code",
   "execution_count": 9,
   "id": "579bc66f",
   "metadata": {},
   "outputs": [],
   "source": [
    "lista.append(\"Hoooooola\")"
   ]
  },
  {
   "cell_type": "code",
   "execution_count": 10,
   "id": "7c1151e8",
   "metadata": {},
   "outputs": [],
   "source": [
    "lista.append(80)"
   ]
  },
  {
   "cell_type": "code",
   "execution_count": 11,
   "id": "22a5772a",
   "metadata": {},
   "outputs": [
    {
     "data": {
      "text/plain": [
       "['Hola Xavi', 123.89, True, 123456789, 'Hoooooola', 80]"
      ]
     },
     "execution_count": 11,
     "metadata": {},
     "output_type": "execute_result"
    }
   ],
   "source": [
    "lista"
   ]
  },
  {
   "cell_type": "code",
   "execution_count": 13,
   "id": "05f7c9a6",
   "metadata": {},
   "outputs": [],
   "source": [
    "array= [1, 2, 2, 2, 3, 4, 2, 2, 5, 6, 2, 2, 5, 5, 6, 6]"
   ]
  },
  {
   "cell_type": "code",
   "execution_count": 14,
   "id": "f04a7aee",
   "metadata": {},
   "outputs": [
    {
     "data": {
      "text/plain": [
       "1"
      ]
     },
     "execution_count": 14,
     "metadata": {},
     "output_type": "execute_result"
    }
   ],
   "source": [
    "array.count(1)"
   ]
  },
  {
   "cell_type": "code",
   "execution_count": 15,
   "id": "552ae212",
   "metadata": {},
   "outputs": [
    {
     "data": {
      "text/plain": [
       "7"
      ]
     },
     "execution_count": 15,
     "metadata": {},
     "output_type": "execute_result"
    }
   ],
   "source": [
    "array.count(2)"
   ]
  },
  {
   "cell_type": "code",
   "execution_count": 21,
   "id": "2a63046d",
   "metadata": {},
   "outputs": [],
   "source": [
    "nombres = [\"Pepe\", \"xavi\", \"xavi\", \"Juan\"]"
   ]
  },
  {
   "cell_type": "code",
   "execution_count": 22,
   "id": "16056854",
   "metadata": {},
   "outputs": [
    {
     "data": {
      "text/plain": [
       "2"
      ]
     },
     "execution_count": 22,
     "metadata": {},
     "output_type": "execute_result"
    }
   ],
   "source": [
    "nombres.count(\"xavi\")"
   ]
  },
  {
   "cell_type": "code",
   "execution_count": 23,
   "id": "b040d38e",
   "metadata": {},
   "outputs": [],
   "source": [
    "nombres.extend(\"Rafa\")"
   ]
  },
  {
   "cell_type": "code",
   "execution_count": 24,
   "id": "b0b8c945",
   "metadata": {},
   "outputs": [
    {
     "data": {
      "text/plain": [
       "['Pepe', 'xavi', 'xavi', 'Juan', 'R', 'a', 'f', 'a']"
      ]
     },
     "execution_count": 24,
     "metadata": {},
     "output_type": "execute_result"
    }
   ],
   "source": [
    "nombres"
   ]
  },
  {
   "cell_type": "code",
   "execution_count": 26,
   "id": "dcc2f79c",
   "metadata": {},
   "outputs": [],
   "source": [
    "nombres.append(\"Rafa\")"
   ]
  },
  {
   "cell_type": "code",
   "execution_count": 27,
   "id": "dc08202a",
   "metadata": {},
   "outputs": [
    {
     "data": {
      "text/plain": [
       "['Pepe', 'xavi', 'xavi', 'Juan', 'R', 'a', 'f', 'a', 'Rafa']"
      ]
     },
     "execution_count": 27,
     "metadata": {},
     "output_type": "execute_result"
    }
   ],
   "source": [
    "nombres"
   ]
  },
  {
   "cell_type": "code",
   "execution_count": 30,
   "id": "45c57bb7",
   "metadata": {},
   "outputs": [],
   "source": [
    "array.extend(\"1234567890\")"
   ]
  },
  {
   "cell_type": "code",
   "execution_count": 31,
   "id": "070b4ae6",
   "metadata": {},
   "outputs": [
    {
     "data": {
      "text/plain": [
       "[1,\n",
       " 2,\n",
       " 2,\n",
       " 2,\n",
       " 3,\n",
       " 4,\n",
       " 2,\n",
       " 2,\n",
       " 5,\n",
       " 6,\n",
       " 2,\n",
       " 2,\n",
       " 5,\n",
       " 5,\n",
       " 6,\n",
       " 6,\n",
       " '1',\n",
       " '2',\n",
       " '3',\n",
       " '4',\n",
       " '5',\n",
       " '6',\n",
       " '7',\n",
       " '8',\n",
       " '9',\n",
       " '0']"
      ]
     },
     "execution_count": 31,
     "metadata": {},
     "output_type": "execute_result"
    }
   ],
   "source": [
    "array"
   ]
  },
  {
   "cell_type": "code",
   "execution_count": 33,
   "id": "ba9b8192",
   "metadata": {},
   "outputs": [],
   "source": [
    "nombres.extend([2])"
   ]
  },
  {
   "cell_type": "code",
   "execution_count": 34,
   "id": "7c1fd345",
   "metadata": {},
   "outputs": [
    {
     "data": {
      "text/plain": [
       "['Pepe', 'xavi', 'xavi', 'Juan', 'R', 'a', 'f', 'a', 'Rafa', 2]"
      ]
     },
     "execution_count": 34,
     "metadata": {},
     "output_type": "execute_result"
    }
   ],
   "source": [
    "nombres"
   ]
  },
  {
   "cell_type": "code",
   "execution_count": 35,
   "id": "20088560",
   "metadata": {},
   "outputs": [],
   "source": [
    "nombres.extend([\"Juan\"])"
   ]
  },
  {
   "cell_type": "code",
   "execution_count": 36,
   "id": "1cb41acf",
   "metadata": {},
   "outputs": [
    {
     "data": {
      "text/plain": [
       "['Pepe', 'xavi', 'xavi', 'Juan', 'R', 'a', 'f', 'a', 'Rafa', 2, 'Juan']"
      ]
     },
     "execution_count": 36,
     "metadata": {},
     "output_type": "execute_result"
    }
   ],
   "source": [
    "nombres"
   ]
  },
  {
   "cell_type": "code",
   "execution_count": 38,
   "id": "b2384c0b",
   "metadata": {},
   "outputs": [],
   "source": [
    "nombres.extend(range(5, 7))"
   ]
  },
  {
   "cell_type": "code",
   "execution_count": 39,
   "id": "f33dae5b",
   "metadata": {},
   "outputs": [
    {
     "data": {
      "text/plain": [
       "['Pepe', 'xavi', 'xavi', 'Juan', 'R', 'a', 'f', 'a', 'Rafa', 2, 'Juan', 5, 6]"
      ]
     },
     "execution_count": 39,
     "metadata": {},
     "output_type": "execute_result"
    }
   ],
   "source": [
    "nombres"
   ]
  },
  {
   "cell_type": "code",
   "execution_count": 40,
   "id": "0ea7bcd7",
   "metadata": {},
   "outputs": [
    {
     "data": {
      "text/plain": [
       "4"
      ]
     },
     "execution_count": 40,
     "metadata": {},
     "output_type": "execute_result"
    }
   ],
   "source": [
    "nombres.index(\"R\")"
   ]
  },
  {
   "cell_type": "code",
   "execution_count": 41,
   "id": "25f17539",
   "metadata": {},
   "outputs": [
    {
     "data": {
      "text/plain": [
       "6"
      ]
     },
     "execution_count": 41,
     "metadata": {},
     "output_type": "execute_result"
    }
   ],
   "source": [
    "nombres[-1]"
   ]
  },
  {
   "cell_type": "code",
   "execution_count": 42,
   "id": "4fd62617",
   "metadata": {},
   "outputs": [],
   "source": [
    "nombres[0] = \"Andrés\""
   ]
  },
  {
   "cell_type": "code",
   "execution_count": 43,
   "id": "07de2c7a",
   "metadata": {},
   "outputs": [
    {
     "data": {
      "text/plain": [
       "['Andrés', 'xavi', 'xavi', 'Juan', 'R', 'a', 'f', 'a', 'Rafa', 2, 'Juan', 5, 6]"
      ]
     },
     "execution_count": 43,
     "metadata": {},
     "output_type": "execute_result"
    }
   ],
   "source": [
    "nombres"
   ]
  },
  {
   "cell_type": "code",
   "execution_count": 44,
   "id": "c04f7d9a",
   "metadata": {},
   "outputs": [],
   "source": [
    "nombres.insert(0, \"Juan\")"
   ]
  },
  {
   "cell_type": "code",
   "execution_count": 45,
   "id": "46c43fed",
   "metadata": {},
   "outputs": [
    {
     "data": {
      "text/plain": [
       "['Juan',\n",
       " 'Andrés',\n",
       " 'xavi',\n",
       " 'xavi',\n",
       " 'Juan',\n",
       " 'R',\n",
       " 'a',\n",
       " 'f',\n",
       " 'a',\n",
       " 'Rafa',\n",
       " 2,\n",
       " 'Juan',\n",
       " 5,\n",
       " 6]"
      ]
     },
     "execution_count": 45,
     "metadata": {},
     "output_type": "execute_result"
    }
   ],
   "source": [
    "nombres"
   ]
  },
  {
   "cell_type": "code",
   "execution_count": 46,
   "id": "7cb615da",
   "metadata": {},
   "outputs": [
    {
     "data": {
      "text/plain": [
       "['Hola Xavi', 123.89, True, 123456789, 'Hoooooola', 80]"
      ]
     },
     "execution_count": 46,
     "metadata": {},
     "output_type": "execute_result"
    }
   ],
   "source": [
    "lista"
   ]
  },
  {
   "cell_type": "code",
   "execution_count": 47,
   "id": "3237f0ae",
   "metadata": {},
   "outputs": [
    {
     "data": {
      "text/plain": [
       "['Juan',\n",
       " 'Andrés',\n",
       " 'xavi',\n",
       " 'xavi',\n",
       " 'Juan',\n",
       " 'R',\n",
       " 'a',\n",
       " 'f',\n",
       " 'a',\n",
       " 'Rafa',\n",
       " 2,\n",
       " 'Juan',\n",
       " 5,\n",
       " 6]"
      ]
     },
     "execution_count": 47,
     "metadata": {},
     "output_type": "execute_result"
    }
   ],
   "source": [
    "nombres"
   ]
  },
  {
   "cell_type": "code",
   "execution_count": 48,
   "id": "3abff7e5",
   "metadata": {},
   "outputs": [],
   "source": [
    "del nombres"
   ]
  },
  {
   "cell_type": "code",
   "execution_count": 49,
   "id": "0c6bdee5",
   "metadata": {},
   "outputs": [
    {
     "ename": "NameError",
     "evalue": "name 'nombres' is not defined",
     "output_type": "error",
     "traceback": [
      "\u001b[1;31m---------------------------------------------------------------------------\u001b[0m",
      "\u001b[1;31mNameError\u001b[0m                                 Traceback (most recent call last)",
      "\u001b[1;32m~\\AppData\\Local\\Temp/ipykernel_17284/680909767.py\u001b[0m in \u001b[0;36m<module>\u001b[1;34m\u001b[0m\n\u001b[1;32m----> 1\u001b[1;33m \u001b[0mnombres\u001b[0m\u001b[1;33m\u001b[0m\u001b[1;33m\u001b[0m\u001b[0m\n\u001b[0m",
      "\u001b[1;31mNameError\u001b[0m: name 'nombres' is not defined"
     ]
    }
   ],
   "source": [
    "nombres"
   ]
  },
  {
   "cell_type": "code",
   "execution_count": 50,
   "id": "6b09d832",
   "metadata": {},
   "outputs": [],
   "source": [
    "lista.reverse()"
   ]
  },
  {
   "cell_type": "code",
   "execution_count": 51,
   "id": "f60d6beb",
   "metadata": {},
   "outputs": [
    {
     "data": {
      "text/plain": [
       "[80, 'Hoooooola', 123456789, True, 123.89, 'Hola Xavi']"
      ]
     },
     "execution_count": 51,
     "metadata": {},
     "output_type": "execute_result"
    }
   ],
   "source": [
    "lista"
   ]
  },
  {
   "cell_type": "code",
   "execution_count": 52,
   "id": "3136421c",
   "metadata": {},
   "outputs": [
    {
     "ename": "TypeError",
     "evalue": "'<' not supported between instances of 'str' and 'int'",
     "output_type": "error",
     "traceback": [
      "\u001b[1;31m---------------------------------------------------------------------------\u001b[0m",
      "\u001b[1;31mTypeError\u001b[0m                                 Traceback (most recent call last)",
      "\u001b[1;32m~\\AppData\\Local\\Temp/ipykernel_17284/1461118269.py\u001b[0m in \u001b[0;36m<module>\u001b[1;34m\u001b[0m\n\u001b[1;32m----> 1\u001b[1;33m \u001b[0mlista\u001b[0m\u001b[1;33m.\u001b[0m\u001b[0msort\u001b[0m\u001b[1;33m(\u001b[0m\u001b[1;33m)\u001b[0m\u001b[1;33m\u001b[0m\u001b[1;33m\u001b[0m\u001b[0m\n\u001b[0m",
      "\u001b[1;31mTypeError\u001b[0m: '<' not supported between instances of 'str' and 'int'"
     ]
    }
   ],
   "source": [
    "lista.sort()"
   ]
  },
  {
   "cell_type": "code",
   "execution_count": 53,
   "id": "b2854b3a",
   "metadata": {},
   "outputs": [],
   "source": [
    "lista2= [3, 1, 8, 3]"
   ]
  },
  {
   "cell_type": "code",
   "execution_count": 54,
   "id": "77262354",
   "metadata": {},
   "outputs": [],
   "source": [
    "lista2.sort()"
   ]
  },
  {
   "cell_type": "code",
   "execution_count": 55,
   "id": "3fdad730",
   "metadata": {},
   "outputs": [
    {
     "data": {
      "text/plain": [
       "[1, 3, 3, 8]"
      ]
     },
     "execution_count": 55,
     "metadata": {},
     "output_type": "execute_result"
    }
   ],
   "source": [
    "lista2"
   ]
  },
  {
   "cell_type": "code",
   "execution_count": 56,
   "id": "81419f27",
   "metadata": {},
   "outputs": [],
   "source": [
    "nombres2 = [\"Dani\", \"Juanjo\", \"Xavi\", \"Andy\"]"
   ]
  },
  {
   "cell_type": "code",
   "execution_count": 57,
   "id": "15e7ce92",
   "metadata": {},
   "outputs": [],
   "source": [
    "nombres2.sort()"
   ]
  },
  {
   "cell_type": "code",
   "execution_count": 58,
   "id": "a782e0ca",
   "metadata": {},
   "outputs": [
    {
     "data": {
      "text/plain": [
       "['Andy', 'Dani', 'Juanjo', 'Xavi']"
      ]
     },
     "execution_count": 58,
     "metadata": {},
     "output_type": "execute_result"
    }
   ],
   "source": [
    "nombres2"
   ]
  },
  {
   "cell_type": "code",
   "execution_count": 59,
   "id": "cdb85162",
   "metadata": {},
   "outputs": [],
   "source": [
    "listita = list((1, 2, 3, 4))"
   ]
  },
  {
   "cell_type": "code",
   "execution_count": 60,
   "id": "ba84b330",
   "metadata": {},
   "outputs": [
    {
     "data": {
      "text/plain": [
       "[1, 2, 3, 4]"
      ]
     },
     "execution_count": 60,
     "metadata": {},
     "output_type": "execute_result"
    }
   ],
   "source": [
    "listita"
   ]
  },
  {
   "cell_type": "code",
   "execution_count": 62,
   "id": "a921b8bf",
   "metadata": {},
   "outputs": [],
   "source": [
    "tupla = tuple(listita)"
   ]
  },
  {
   "cell_type": "code",
   "execution_count": 64,
   "id": "99681dd1",
   "metadata": {},
   "outputs": [
    {
     "data": {
      "text/plain": [
       "(1, 2, 3, 4)"
      ]
     },
     "execution_count": 64,
     "metadata": {},
     "output_type": "execute_result"
    }
   ],
   "source": [
    "tupla"
   ]
  },
  {
   "cell_type": "code",
   "execution_count": 66,
   "id": "1cb98ddd",
   "metadata": {},
   "outputs": [
    {
     "data": {
      "text/plain": [
       "tuple"
      ]
     },
     "execution_count": 66,
     "metadata": {},
     "output_type": "execute_result"
    }
   ],
   "source": [
    "type(tupla)"
   ]
  },
  {
   "cell_type": "code",
   "execution_count": 67,
   "id": "5e991769",
   "metadata": {},
   "outputs": [
    {
     "data": {
      "text/plain": [
       "[1, 2, 3, 4]"
      ]
     },
     "execution_count": 67,
     "metadata": {},
     "output_type": "execute_result"
    }
   ],
   "source": [
    "listita"
   ]
  },
  {
   "cell_type": "code",
   "execution_count": 68,
   "id": "eb9b5c4e",
   "metadata": {},
   "outputs": [
    {
     "data": {
      "text/plain": [
       "list"
      ]
     },
     "execution_count": 68,
     "metadata": {},
     "output_type": "execute_result"
    }
   ],
   "source": [
    "type(listita)"
   ]
  },
  {
   "cell_type": "code",
   "execution_count": 69,
   "id": "8062208d",
   "metadata": {},
   "outputs": [],
   "source": [
    "t_l = list(tupla)"
   ]
  },
  {
   "cell_type": "code",
   "execution_count": 70,
   "id": "1bd77b28",
   "metadata": {},
   "outputs": [
    {
     "data": {
      "text/plain": [
       "list"
      ]
     },
     "execution_count": 70,
     "metadata": {},
     "output_type": "execute_result"
    }
   ],
   "source": [
    "type(t_l)"
   ]
  },
  {
   "cell_type": "code",
   "execution_count": 71,
   "id": "f4acc66a",
   "metadata": {},
   "outputs": [
    {
     "data": {
      "text/plain": [
       "[1, 2, 3, 4]"
      ]
     },
     "execution_count": 71,
     "metadata": {},
     "output_type": "execute_result"
    }
   ],
   "source": [
    "t_l"
   ]
  },
  {
   "cell_type": "code",
   "execution_count": 72,
   "id": "ddc7eca3",
   "metadata": {},
   "outputs": [],
   "source": [
    "myDicci = {\"Dia\": 31, \"Mes\": 3, \"Año\": 2022}"
   ]
  },
  {
   "cell_type": "code",
   "execution_count": 73,
   "id": "f91a6acc",
   "metadata": {},
   "outputs": [],
   "source": [
    "secuencia = (\"Dia\", \"Mes\", \"Año\")"
   ]
  },
  {
   "cell_type": "code",
   "execution_count": 74,
   "id": "480b5237",
   "metadata": {},
   "outputs": [],
   "source": [
    "dia = {}"
   ]
  },
  {
   "cell_type": "code",
   "execution_count": 75,
   "id": "eb2c33a6",
   "metadata": {},
   "outputs": [],
   "source": [
    "dia = dict.fromkeys(secuencia)"
   ]
  },
  {
   "cell_type": "code",
   "execution_count": 76,
   "id": "51af2e6e",
   "metadata": {},
   "outputs": [
    {
     "data": {
      "text/plain": [
       "{'Dia': None, 'Mes': None, 'Año': None}"
      ]
     },
     "execution_count": 76,
     "metadata": {},
     "output_type": "execute_result"
    }
   ],
   "source": [
    "dia"
   ]
  },
  {
   "cell_type": "code",
   "execution_count": 77,
   "id": "bca439c9",
   "metadata": {},
   "outputs": [],
   "source": [
    "dia = dict.fromkeys(secuencia, 9)"
   ]
  },
  {
   "cell_type": "code",
   "execution_count": 78,
   "id": "6ed63a27",
   "metadata": {},
   "outputs": [
    {
     "data": {
      "text/plain": [
       "{'Dia': 9, 'Mes': 9, 'Año': 9}"
      ]
     },
     "execution_count": 78,
     "metadata": {},
     "output_type": "execute_result"
    }
   ],
   "source": [
    "dia"
   ]
  },
  {
   "cell_type": "code",
   "execution_count": 79,
   "id": "2f39a8d6",
   "metadata": {},
   "outputs": [],
   "source": [
    "tomorrow = dia.copy()"
   ]
  },
  {
   "cell_type": "code",
   "execution_count": 80,
   "id": "9244f638",
   "metadata": {},
   "outputs": [
    {
     "data": {
      "text/plain": [
       "{'Dia': 9, 'Mes': 9, 'Año': 9}"
      ]
     },
     "execution_count": 80,
     "metadata": {},
     "output_type": "execute_result"
    }
   ],
   "source": [
    "tomorrow"
   ]
  },
  {
   "cell_type": "code",
   "execution_count": 81,
   "id": "2040b80f",
   "metadata": {},
   "outputs": [],
   "source": [
    "tomorrow[\"Dia\"]=10"
   ]
  },
  {
   "cell_type": "code",
   "execution_count": 82,
   "id": "e80aeeb3",
   "metadata": {},
   "outputs": [
    {
     "data": {
      "text/plain": [
       "{'Dia': 10, 'Mes': 9, 'Año': 9}"
      ]
     },
     "execution_count": 82,
     "metadata": {},
     "output_type": "execute_result"
    }
   ],
   "source": [
    "tomorrow"
   ]
  },
  {
   "cell_type": "code",
   "execution_count": 83,
   "id": "e4baa831",
   "metadata": {},
   "outputs": [
    {
     "data": {
      "text/plain": [
       "dict_items([('Dia', 10), ('Mes', 9), ('Año', 9)])"
      ]
     },
     "execution_count": 83,
     "metadata": {},
     "output_type": "execute_result"
    }
   ],
   "source": [
    "tomorrow.items()"
   ]
  },
  {
   "cell_type": "code",
   "execution_count": 84,
   "id": "015cb460",
   "metadata": {},
   "outputs": [],
   "source": [
    "items_mañana = tomorrow.items()"
   ]
  },
  {
   "cell_type": "code",
   "execution_count": 85,
   "id": "fd0d468c",
   "metadata": {},
   "outputs": [
    {
     "ename": "TypeError",
     "evalue": "'dict_items' object is not subscriptable",
     "output_type": "error",
     "traceback": [
      "\u001b[1;31m---------------------------------------------------------------------------\u001b[0m",
      "\u001b[1;31mTypeError\u001b[0m                                 Traceback (most recent call last)",
      "\u001b[1;32m~\\AppData\\Local\\Temp/ipykernel_17284/3897950867.py\u001b[0m in \u001b[0;36m<module>\u001b[1;34m\u001b[0m\n\u001b[1;32m----> 1\u001b[1;33m \u001b[0mitems_mañana\u001b[0m\u001b[1;33m[\u001b[0m\u001b[1;36m0\u001b[0m\u001b[1;33m]\u001b[0m\u001b[1;33m\u001b[0m\u001b[1;33m\u001b[0m\u001b[0m\n\u001b[0m",
      "\u001b[1;31mTypeError\u001b[0m: 'dict_items' object is not subscriptable"
     ]
    }
   ],
   "source": [
    "items_mañana[0]"
   ]
  },
  {
   "cell_type": "code",
   "execution_count": 86,
   "id": "5e7212ee",
   "metadata": {},
   "outputs": [],
   "source": [
    "hoy= {\"Dia\": 9, \"Año\":2022}"
   ]
  },
  {
   "cell_type": "code",
   "execution_count": 88,
   "id": "f8f36176",
   "metadata": {},
   "outputs": [],
   "source": [
    "hoy.update(tomorrow)"
   ]
  },
  {
   "cell_type": "code",
   "execution_count": 89,
   "id": "08d31333",
   "metadata": {},
   "outputs": [
    {
     "data": {
      "text/plain": [
       "{'Dia': 10, 'Año': 9, 'Mes': 9}"
      ]
     },
     "execution_count": 89,
     "metadata": {},
     "output_type": "execute_result"
    }
   ],
   "source": [
    "hoy"
   ]
  },
  {
   "cell_type": "code",
   "execution_count": 90,
   "id": "f38989b3",
   "metadata": {},
   "outputs": [],
   "source": [
    "tuplita = (1, \"pepe\", True)"
   ]
  },
  {
   "cell_type": "code",
   "execution_count": 91,
   "id": "4e01a0a4",
   "metadata": {},
   "outputs": [
    {
     "data": {
      "text/plain": [
       "tuple"
      ]
     },
     "execution_count": 91,
     "metadata": {},
     "output_type": "execute_result"
    }
   ],
   "source": [
    "type(tuplita)"
   ]
  },
  {
   "cell_type": "code",
   "execution_count": 92,
   "id": "2717a173",
   "metadata": {},
   "outputs": [],
   "source": [
    "lissssta = list(tuplita)"
   ]
  },
  {
   "cell_type": "code",
   "execution_count": 93,
   "id": "5d8a95e1",
   "metadata": {},
   "outputs": [
    {
     "data": {
      "text/plain": [
       "list"
      ]
     },
     "execution_count": 93,
     "metadata": {},
     "output_type": "execute_result"
    }
   ],
   "source": [
    "type(lissssta)"
   ]
  },
  {
   "cell_type": "code",
   "execution_count": 104,
   "id": "44908161",
   "metadata": {},
   "outputs": [],
   "source": [
    "dicci34 = {1:\"\", 2:\"\", 3:\"\", 4:\"\", 5:\"\"}"
   ]
  },
  {
   "cell_type": "code",
   "execution_count": 105,
   "id": "1046e45e",
   "metadata": {},
   "outputs": [
    {
     "data": {
      "text/plain": [
       "{1: '', 2: '', 3: '', 4: '', 5: ''}"
      ]
     },
     "execution_count": 105,
     "metadata": {},
     "output_type": "execute_result"
    }
   ],
   "source": [
    "dicci34"
   ]
  },
  {
   "cell_type": "code",
   "execution_count": 108,
   "id": "0c1a8f1f",
   "metadata": {},
   "outputs": [],
   "source": [
    "dicci34[1] = lissssta[0]"
   ]
  },
  {
   "cell_type": "code",
   "execution_count": 109,
   "id": "6c10345a",
   "metadata": {},
   "outputs": [
    {
     "data": {
      "text/plain": [
       "{1: 1, 2: '', 3: '', 4: '', 5: ''}"
      ]
     },
     "execution_count": 109,
     "metadata": {},
     "output_type": "execute_result"
    }
   ],
   "source": [
    "dicci34"
   ]
  },
  {
   "cell_type": "code",
   "execution_count": 120,
   "id": "1d6e237f",
   "metadata": {},
   "outputs": [
    {
     "data": {
      "text/plain": [
       "{1: 1, 2: 'pepe', 3: '', 4: '', 5: ''}"
      ]
     },
     "execution_count": 120,
     "metadata": {},
     "output_type": "execute_result"
    }
   ],
   "source": [
    "def funciooooona():\n",
    "    tuplita = (1, \"Mallorca\", True, 10, \"Xavi\")\n",
    "lista = list(tuplita)\n",
    "dicci = {1:\"\", 2:\"\", 3:\"\", 4:\"\", 5:\"\" }\n",
    "dicci[1] = lista[0]\n",
    "dicci[2] = lista[1]\n",
    "dicci\n"
   ]
  },
  {
   "cell_type": "code",
   "execution_count": 121,
   "id": "7a13573a",
   "metadata": {},
   "outputs": [],
   "source": [
    "funciooooona()"
   ]
  },
  {
   "cell_type": "code",
   "execution_count": null,
   "id": "ff99af19",
   "metadata": {},
   "outputs": [],
   "source": []
  }
 ],
 "metadata": {
  "kernelspec": {
   "display_name": "Python 3 (ipykernel)",
   "language": "python",
   "name": "python3"
  },
  "language_info": {
   "codemirror_mode": {
    "name": "ipython",
    "version": 3
   },
   "file_extension": ".py",
   "mimetype": "text/x-python",
   "name": "python",
   "nbconvert_exporter": "python",
   "pygments_lexer": "ipython3",
   "version": "3.9.7"
  }
 },
 "nbformat": 4,
 "nbformat_minor": 5
}
