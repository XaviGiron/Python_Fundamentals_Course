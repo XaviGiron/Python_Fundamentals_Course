{
 "cells": [
  {
   "cell_type": "code",
   "execution_count": 1,
   "id": "683c6ebb",
   "metadata": {},
   "outputs": [
    {
     "name": "stdout",
     "output_type": "stream",
     "text": [
      "Hola Mundito\n"
     ]
    }
   ],
   "source": [
    "print(\"Hola Mundito\")"
   ]
  },
  {
   "cell_type": "code",
   "execution_count": null,
   "id": "a520131d",
   "metadata": {},
   "outputs": [],
   "source": []
  }
 ],
 "metadata": {
  "kernelspec": {
   "display_name": "Python 3 (ipykernel)",
   "language": "python",
   "name": "python3"
  },
  "language_info": {
   "codemirror_mode": {
    "name": "ipython",
    "version": 3
   },
   "file_extension": ".py",
   "mimetype": "text/x-python",
   "name": "python",
   "nbconvert_exporter": "python",
   "pygments_lexer": "ipython3",
   "version": "3.9.7"
  }
 },
 "nbformat": 4,
 "nbformat_minor": 5
}
