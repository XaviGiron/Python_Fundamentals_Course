{
 "cells": [
  {
   "cell_type": "code",
   "execution_count": 12,
   "id": "eb5d30ae",
   "metadata": {},
   "outputs": [],
   "source": [
    "class Persona:\n",
    "    name = \"Xavi\"\n",
    "    age = 21\n",
    "    country = \"Spain\"\n",
    "    gender = \"Male\"\n",
    "    job = \"Data Analyst\"\n",
    "    \n",
    "    def hablar(self, msg):\n",
    "        \"\"\"Mostrar mensaje de saludo de persona\"\"\"\n",
    "        return msg\n",
    "    pass\n",
    "        \n",
    "pass"
   ]
  },
  {
   "cell_type": "code",
   "execution_count": 13,
   "id": "f13690f8",
   "metadata": {},
   "outputs": [],
   "source": [
    "yo = Persona"
   ]
  },
  {
   "cell_type": "code",
   "execution_count": 4,
   "id": "d0d80ebc",
   "metadata": {},
   "outputs": [
    {
     "data": {
      "text/plain": [
       "'Xavi'"
      ]
     },
     "execution_count": 4,
     "metadata": {},
     "output_type": "execute_result"
    }
   ],
   "source": [
    "yo.name"
   ]
  },
  {
   "cell_type": "code",
   "execution_count": 5,
   "id": "89c03386",
   "metadata": {},
   "outputs": [
    {
     "data": {
      "text/plain": [
       "21"
      ]
     },
     "execution_count": 5,
     "metadata": {},
     "output_type": "execute_result"
    }
   ],
   "source": [
    "yo.age"
   ]
  },
  {
   "cell_type": "code",
   "execution_count": 6,
   "id": "3f1b774f",
   "metadata": {},
   "outputs": [
    {
     "data": {
      "text/plain": [
       "'Data Analyst'"
      ]
     },
     "execution_count": 6,
     "metadata": {},
     "output_type": "execute_result"
    }
   ],
   "source": [
    "yo.job"
   ]
  },
  {
   "cell_type": "code",
   "execution_count": 14,
   "id": "a9fea572",
   "metadata": {},
   "outputs": [
    {
     "data": {
      "text/plain": [
       "'Hola, soy de la clase Persona.'"
      ]
     },
     "execution_count": 14,
     "metadata": {},
     "output_type": "execute_result"
    }
   ],
   "source": [
    "Persona().hablar(\"Hola, soy de la clase {0}.\".format(yo.__name__))"
   ]
  },
  {
   "cell_type": "code",
   "execution_count": 15,
   "id": "5650cc79",
   "metadata": {},
   "outputs": [
    {
     "data": {
      "text/plain": [
       "'Mostrar mensaje de saludo de persona'"
      ]
     },
     "execution_count": 15,
     "metadata": {},
     "output_type": "execute_result"
    }
   ],
   "source": [
    "Persona().hablar.__doc__"
   ]
  },
  {
   "cell_type": "code",
   "execution_count": 23,
   "id": "b5299c08",
   "metadata": {},
   "outputs": [],
   "source": [
    "##Sobrecarga de operadores"
   ]
  },
  {
   "cell_type": "code",
   "execution_count": null,
   "id": "394b3026",
   "metadata": {},
   "outputs": [],
   "source": [
    "##Los nombres de los def tienen que tener este formato si o si __nombre__"
   ]
  },
  {
   "cell_type": "code",
   "execution_count": 20,
   "id": "85eaeb9d",
   "metadata": {},
   "outputs": [],
   "source": [
    "class Punto:\n",
    "    def __init__(self, x = 0, y = 0):\n",
    "        self.x = x\n",
    "        self.y = y\n",
    "    def __add__(self, other):\n",
    "        x = self.x * other.x\n",
    "        y = self.y + other.y\n",
    "        return x, y"
   ]
  },
  {
   "cell_type": "code",
   "execution_count": 21,
   "id": "45c5aec0",
   "metadata": {},
   "outputs": [],
   "source": [
    "punto1 = Punto(4, 6)"
   ]
  },
  {
   "cell_type": "code",
   "execution_count": 22,
   "id": "73482f29",
   "metadata": {},
   "outputs": [],
   "source": [
    "punto2 = Punto(1, -2)"
   ]
  },
  {
   "cell_type": "code",
   "execution_count": 24,
   "id": "7e0341b0",
   "metadata": {},
   "outputs": [
    {
     "name": "stdout",
     "output_type": "stream",
     "text": [
      "(4, 4)\n"
     ]
    }
   ],
   "source": [
    "print(punto1 + punto2)"
   ]
  },
  {
   "cell_type": "code",
   "execution_count": 25,
   "id": "4ab3c99d",
   "metadata": {},
   "outputs": [],
   "source": [
    "##El primero (x) multiolica x de punto1 * x de punto2, el segundo (y) suma y de punto1 + y de punto2"
   ]
  },
  {
   "cell_type": "code",
   "execution_count": 26,
   "id": "b5975d1e",
   "metadata": {},
   "outputs": [],
   "source": [
    "##Overriding methods"
   ]
  },
  {
   "cell_type": "code",
   "execution_count": 27,
   "id": "d6d41d2f",
   "metadata": {},
   "outputs": [],
   "source": [
    "class Empleado():\n",
    "    def __init__(self):\n",
    "        delf.cedula = 1234567\n",
    "    def mensaje (self):\n",
    "        print(\"Msg desde la calse Obrero\")\n",
    "        \n",
    "        \n",
    "class Obrero(Empleado):\n",
    "    def __init__(self):\n",
    "        self.__especialista = 1\n",
    "    def mensaje(self):\n",
    "        print(\"Msg desde la clase obrero\")"
   ]
  },
  {
   "cell_type": "code",
   "execution_count": 28,
   "id": "a0e85360",
   "metadata": {},
   "outputs": [],
   "source": [
    "obrero_planta = Obrero()"
   ]
  },
  {
   "cell_type": "code",
   "execution_count": 29,
   "id": "eefb85d1",
   "metadata": {},
   "outputs": [
    {
     "name": "stdout",
     "output_type": "stream",
     "text": [
      "Msg desde la clase obrero\n"
     ]
    }
   ],
   "source": [
    "obrero_planta.mensaje()"
   ]
  },
  {
   "cell_type": "code",
   "execution_count": null,
   "id": "37ff1fcd",
   "metadata": {},
   "outputs": [],
   "source": []
  }
 ],
 "metadata": {
  "kernelspec": {
   "display_name": "Python 3 (ipykernel)",
   "language": "python",
   "name": "python3"
  },
  "language_info": {
   "codemirror_mode": {
    "name": "ipython",
    "version": 3
   },
   "file_extension": ".py",
   "mimetype": "text/x-python",
   "name": "python",
   "nbconvert_exporter": "python",
   "pygments_lexer": "ipython3",
   "version": "3.9.7"
  }
 },
 "nbformat": 4,
 "nbformat_minor": 5
}
