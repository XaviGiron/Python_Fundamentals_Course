{
 "cells": [
  {
   "cell_type": "code",
   "execution_count": 12,
   "id": "eb5d30ae",
   "metadata": {},
   "outputs": [],
   "source": [
    "class Persona:\n",
    "    name = \"Xavi\"\n",
    "    age = 21\n",
    "    country = \"Spain\"\n",
    "    gender = \"Male\"\n",
    "    job = \"Data Analyst\"\n",
    "    \n",
    "    def hablar(self, msg):\n",
    "        \"\"\"Mostrar mensaje de saludo de persona\"\"\"\n",
    "        return msg\n",
    "    pass\n",
    "        \n",
    "pass"
   ]
  },
  {
   "cell_type": "code",
   "execution_count": 13,
   "id": "f13690f8",
   "metadata": {},
   "outputs": [],
   "source": [
    "yo = Persona"
   ]
  },
  {
   "cell_type": "code",
   "execution_count": 4,
   "id": "d0d80ebc",
   "metadata": {},
   "outputs": [
    {
     "data": {
      "text/plain": [
       "'Xavi'"
      ]
     },
     "execution_count": 4,
     "metadata": {},
     "output_type": "execute_result"
    }
   ],
   "source": [
    "yo.name"
   ]
  },
  {
   "cell_type": "code",
   "execution_count": 5,
   "id": "89c03386",
   "metadata": {},
   "outputs": [
    {
     "data": {
      "text/plain": [
       "21"
      ]
     },
     "execution_count": 5,
     "metadata": {},
     "output_type": "execute_result"
    }
   ],
   "source": [
    "yo.age"
   ]
  },
  {
   "cell_type": "code",
   "execution_count": 6,
   "id": "3f1b774f",
   "metadata": {},
   "outputs": [
    {
     "data": {
      "text/plain": [
       "'Data Analyst'"
      ]
     },
     "execution_count": 6,
     "metadata": {},
     "output_type": "execute_result"
    }
   ],
   "source": [
    "yo.job"
   ]
  },
  {
   "cell_type": "code",
   "execution_count": 14,
   "id": "a9fea572",
   "metadata": {},
   "outputs": [
    {
     "data": {
      "text/plain": [
       "'Hola, soy de la clase Persona.'"
      ]
     },
     "execution_count": 14,
     "metadata": {},
     "output_type": "execute_result"
    }
   ],
   "source": [
    "Persona().hablar(\"Hola, soy de la clase {0}.\".format(yo.__name__))"
   ]
  },
  {
   "cell_type": "code",
   "execution_count": 15,
   "id": "5650cc79",
   "metadata": {},
   "outputs": [
    {
     "data": {
      "text/plain": [
       "'Mostrar mensaje de saludo de persona'"
      ]
     },
     "execution_count": 15,
     "metadata": {},
     "output_type": "execute_result"
    }
   ],
   "source": [
    "Persona().hablar.__doc__"
   ]
  },
  {
   "cell_type": "code",
   "execution_count": null,
   "id": "b5299c08",
   "metadata": {},
   "outputs": [],
   "source": []
  }
 ],
 "metadata": {
  "kernelspec": {
   "display_name": "Python 3 (ipykernel)",
   "language": "python",
   "name": "python3"
  },
  "language_info": {
   "codemirror_mode": {
    "name": "ipython",
    "version": 3
   },
   "file_extension": ".py",
   "mimetype": "text/x-python",
   "name": "python",
   "nbconvert_exporter": "python",
   "pygments_lexer": "ipython3",
   "version": "3.9.7"
  }
 },
 "nbformat": 4,
 "nbformat_minor": 5
}
