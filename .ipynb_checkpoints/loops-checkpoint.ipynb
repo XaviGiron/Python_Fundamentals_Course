{
 "cells": [
  {
   "cell_type": "code",
   "execution_count": 7,
   "id": "de45806c",
   "metadata": {},
   "outputs": [
    {
     "name": "stdout",
     "output_type": "stream",
     "text": [
      "No son iguales\n"
     ]
    }
   ],
   "source": [
    "a = 4\n",
    "b = \"Fantástico\"\n",
    "\n",
    "if a == b:\n",
    "    print(\"Son iguales\")\n",
    "elif a == 45 :\n",
    "    print(\"A ha crecido\")\n",
    "else :\n",
    "    print(\"No son iguales\")"
   ]
  },
  {
   "cell_type": "code",
   "execution_count": 8,
   "id": "55fa28de",
   "metadata": {},
   "outputs": [],
   "source": [
    "diccionario = {\"Felipe\": 4, \"Xavi\": 55, \"Ros\": 3}"
   ]
  },
  {
   "cell_type": "code",
   "execution_count": 10,
   "id": "699e15e9",
   "metadata": {},
   "outputs": [
    {
     "name": "stdout",
     "output_type": "stream",
     "text": [
      "Participante:  Felipe , Valor:  4\n",
      "Participante:  Xavi , Valor:  55\n",
      "Participante:  Ros , Valor:  3\n"
     ]
    }
   ],
   "source": [
    "for k,v in diccionario.items():\n",
    "    print(\"Participante: \", k, \", Valor: \", v)\n",
    "    "
   ]
  },
  {
   "cell_type": "code",
   "execution_count": null,
   "id": "f5b46edc",
   "metadata": {},
   "outputs": [],
   "source": []
  }
 ],
 "metadata": {
  "kernelspec": {
   "display_name": "Python 3 (ipykernel)",
   "language": "python",
   "name": "python3"
  },
  "language_info": {
   "codemirror_mode": {
    "name": "ipython",
    "version": 3
   },
   "file_extension": ".py",
   "mimetype": "text/x-python",
   "name": "python",
   "nbconvert_exporter": "python",
   "pygments_lexer": "ipython3",
   "version": "3.9.7"
  }
 },
 "nbformat": 4,
 "nbformat_minor": 5
}
